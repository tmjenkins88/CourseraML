{
 "cells": [
  {
   "cell_type": "code",
   "execution_count": 1,
   "metadata": {},
   "outputs": [],
   "source": [
    "import numpy as np\n",
    "import pandas as pd\n",
    "import matplotlib.pyplot as plt\n",
    "import seaborn as sns\n",
    "from scipy.io import loadmat\n",
    "from scipy import optimize\n",
    "%matplotlib inline"
   ]
  },
  {
   "cell_type": "code",
   "execution_count": 2,
   "metadata": {},
   "outputs": [],
   "source": [
    "data = loadmat('ex3data1.mat')"
   ]
  },
  {
   "cell_type": "code",
   "execution_count": 3,
   "metadata": {},
   "outputs": [],
   "source": [
    "X = data['X'] #5000x400.\n",
    "intNumSamples = X.shape[0]\n",
    "'''\n",
    "Add column for bias term.\n",
    "'''\n",
    "X = np.insert(X,0,np.ones(intNumSamples),axis =1) #5000x401.\n",
    "y = data['y'] #5000x1."
   ]
  },
  {
   "cell_type": "code",
   "execution_count": 4,
   "metadata": {},
   "outputs": [
    {
     "data": {
      "text/plain": [
       "(-0.5, 199.5, 19.5, -0.5)"
      ]
     },
     "execution_count": 4,
     "metadata": {},
     "output_type": "execute_result"
    },
    {
     "data": {
      "image/png": "[encoded data removed]",
      "text/plain": [
       "<matplotlib.figure.Figure at 0x1d359cf8e80>"
      ]
     },
     "metadata": {},
     "output_type": "display_data"
    }
   ],
   "source": [
    "intRandRows = np.random.choice(X.shape[0],10)\n",
    "'''\n",
    "reshape(-1,20) rolls each 1x400 row back into a 20x20 grid.\n",
    "we can plot these as an image since each grid is a 20x20 grid of grayscale pixel values.\n",
    "'''\n",
    "plt.imshow(X[intRandRows,1:].reshape(-1,20).T, cmap = 'gray')\n",
    "plt.axis('off')"
   ]
  },
  {
   "cell_type": "code",
   "execution_count": 5,
   "metadata": {},
   "outputs": [],
   "source": [
    "class MulticlassClassification:\n",
    "    def __init__(self):\n",
    "        pass\n",
    "    def sigmoid(self,z):\n",
    "        return 1/(1+np.exp(-z))\n",
    "    def getCost(self,theta,X,y,regFactor = 0):\n",
    "        theta = np.matrix(theta)\n",
    "        hypothesis = self.sigmoid(np.dot(X,theta.T))\n",
    "        intNumSamples = X.shape[0]\n",
    "        J = -(np.dot(y.T,(np.log(hypothesis))) + np.dot((1-y).T,np.log(1-hypothesis)))/intNumSamples\n",
    "        '''\n",
    "        Don't add theta0.\n",
    "        '''\n",
    "        R = np.sum(np.square(theta[1:,0]))*regFactor/2/intNumSamples\n",
    "        J += R\n",
    "        self.cost = np.array(J)\n",
    "        return self.cost\n",
    "    def getGrad(self,theta,X,y,regFactor = 0):\n",
    "        theta = np.matrix(theta)\n",
    "        intNumSamples = X.shape[0]\n",
    "        hypothesis = self.sigmoid(np.dot(X,theta.T))\n",
    "        error = hypothesis -y\n",
    "        tempTheta =np.copy(theta)\n",
    "\n",
    "        tempTheta[:,0] = 0\n",
    "        '''\n",
    "        Don't regularize theta0.\n",
    "        '''\n",
    "        grad =  np.dot(X.T,error)/intNumSamples + tempTheta.T*regFactor/intNumSamples\n",
    "        self.grad = np.array(grad).ravel()\n",
    "        return self.grad\n",
    "    def minimizeCost(self,theta,X,y,regFactor, optMethod=None):\n",
    "        self.fmin = optimize.minimize(fun=self.getCost,x0=theta,method = optMethod,jac = self.getGrad,args=(X,y,regFactor))\n",
    "        return self.fmin\n",
    "    def oneVsAll(self,X,y,numLabels,regFactor,optMethod= None):\n",
    "\n",
    "        numFeatures = X.shape[1]\n",
    "        self.allTheta = np.zeros((numLabels,numFeatures))\n",
    "        '''\n",
    "        Note we are starting at one because 0 is labeled as 10 in the training set.\n",
    "        The values are 0-9, but the labels are 1-10.\n",
    "        '''\n",
    "        for i in range(1,numLabels+1):\n",
    "            tempY = np.matrix([1 if label==i else 0 for label in y]).T\n",
    "            tempTheta = np.zeros(numFeatures)\n",
    "            fmin = self.minimizeCost(tempTheta,X,tempY,regFactor,optMethod)\n",
    "            self.allTheta[i-1,:] = fmin['x']\n",
    "            print('Training complete for label ' + str(i) + ' | Cost: ' + str(fmin['fun'][0]))\n",
    "        return self.allTheta\n",
    "    def predictOneVsAll(self,X,y,allTheta):\n",
    "        hypothesis = self.sigmoid(np.dot(X,allTheta.T))\n",
    "        '''\n",
    "        Remember that labels go from 1 - 10.\n",
    "        '''\n",
    "        allPredictions = np.argmax(hypothesis,axis =1) +1\n",
    "        self.predictionAccuracy = round(100*np.mean(allPredictions == y.ravel()),2)\n",
    "        return self.predictionAccuracy\n",
    "    def predictNN(self,X,y,theta1,theta2):\n",
    "        numSamples,numInputNeurons = X.shape\n",
    "        numHiddenNeurons = theta1.shape[0] #not including bias hidden neuron.\n",
    "        numOutputNeurons = theta2.shape[0]\n",
    "        '''\n",
    "        Forward propagate.\n",
    "        '''\n",
    "        a1 = X\n",
    "        z2 = np.dot(a1,theta1.T)\n",
    "        a2 = self.sigmoid(z2)\n",
    "        a2 = np.insert(a2,0,np.ones(numSamples),axis =1)\n",
    "        z3 = np.dot(a2,theta2.T)\n",
    "        hypothesis = self.sigmoid(z3)\n",
    "        '''\n",
    "        Remember that labels go from 1 - 10.\n",
    "        '''\n",
    "        allPredictions = np.argmax(hypothesis, axis =1) +1\n",
    "        self.predictionAccuracyNN = round(100*np.mean(allPredictions == y.ravel()),2)\n",
    "        return self.predictionAccuracyNN"
   ]
  },
  {
   "cell_type": "code",
   "execution_count": 6,
   "metadata": {},
   "outputs": [
    {
     "name": "stdout",
     "output_type": "stream",
     "text": [
      "Training complete for label 1 | Cost: [0.0079651]\n",
      "Training complete for label 2 | Cost: [0.04443504]\n",
      "Training complete for label 3 | Cost: [0.052425]\n",
      "Training complete for label 4 | Cost: [0.02605872]\n",
      "Training complete for label 5 | Cost: [0.04708875]\n",
      "Training complete for label 6 | Cost: [0.01176083]\n",
      "Training complete for label 7 | Cost: [0.0245279]\n",
      "Training complete for label 8 | Cost: [0.07406359]\n",
      "Training complete for label 9 | Cost: [0.0653737]\n",
      "Training complete for label 10 | Cost: [0.00585873]\n",
      "\n",
      "Prediction accuracy: 96.46%.\n",
      "Note that we used the TNC optimization algorithm to minimize the cost function.\n"
     ]
    }
   ],
   "source": [
    "regFactor = 0.1\n",
    "numLabels = 10\n",
    "optMethod = 'TNC'\n",
    "\n",
    "model = MulticlassClassification()\n",
    "theta = model.oneVsAll(X,y,numLabels,regFactor,optMethod)\n",
    "predictionAccuracy = model.predictOneVsAll(X,y,theta)\n",
    "\n",
    "print('\\nPrediction accuracy: ' + str(predictionAccuracy) + '%.')\n",
    "print('Note that we used the %s optimization algorithm to minimize the cost function.' %(optMethod))"
   ]
  },
  {
   "cell_type": "code",
   "execution_count": 7,
   "metadata": {},
   "outputs": [
    {
     "name": "stdout",
     "output_type": "stream",
     "text": [
      "(25, 401)\n",
      "(10, 26)\n"
     ]
    }
   ],
   "source": [
    "weights = loadmat('ex3weights.mat')\n",
    "theta1 = weights['Theta1']\n",
    "theta2 = weights['Theta2']\n",
    "\n",
    "print(theta1.shape)\n",
    "print(theta2.shape)"
   ]
  },
  {
   "cell_type": "code",
   "execution_count": 8,
   "metadata": {},
   "outputs": [
    {
     "name": "stdout",
     "output_type": "stream",
     "text": [
      "Prediction accuracy using neural network: 97.52%.\n"
     ]
    }
   ],
   "source": [
    "predictionAccuracyNN = model.predictNN(X,y,theta1,theta2)\n",
    "print('Prediction accuracy using neural network: ' + str(predictionAccuracyNN) + '%.')"
   ]
  }
 ],
 "metadata": {
  "kernelspec": {
   "display_name": "Python 3",
   "language": "python",
   "name": "python3"
  },
  "language_info": {
   "codemirror_mode": {
    "name": "ipython",
    "version": 3
   },
   "file_extension": ".py",
   "mimetype": "text/x-python",
   "name": "python",
   "nbconvert_exporter": "python",
   "pygments_lexer": "ipython3",
   "version": "3.6.4"
  }
 },
 "nbformat": 4,
 "nbformat_minor": 2
}
