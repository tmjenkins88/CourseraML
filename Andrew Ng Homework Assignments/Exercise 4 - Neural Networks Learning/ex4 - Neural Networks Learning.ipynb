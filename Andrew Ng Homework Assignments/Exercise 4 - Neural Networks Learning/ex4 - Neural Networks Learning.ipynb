{
 "cells": [
  {
   "cell_type": "code",
   "execution_count": 1,
   "metadata": {},
   "outputs": [],
   "source": [
    "import numpy as np\n",
    "import pandas as pd\n",
    "import matplotlib.pyplot as plt\n",
    "from scipy.io import loadmat\n",
    "from scipy import optimize\n",
    "%matplotlib inline"
   ]
  },
  {
   "cell_type": "code",
   "execution_count": 2,
   "metadata": {},
   "outputs": [],
   "source": [
    "data = loadmat('ex4data1.mat')"
   ]
  },
  {
   "cell_type": "code",
   "execution_count": 3,
   "metadata": {},
   "outputs": [],
   "source": [
    "X = data['X'] #5000x400.\n",
    "intNumSamples = X.shape[0]\n",
    "'''\n",
    "Add column for bias term.\n",
    "'''\n",
    "inputSize = X.shape[1] #400\n",
    "\n",
    "X = np.insert(X,0,np.ones(intNumSamples),axis =1) #5000x401.\n",
    "y = data['y'] #5000x1.\n",
    "\n",
    "hiddenSize = 25\n",
    "outputSize = 10"
   ]
  },
  {
   "cell_type": "code",
   "execution_count": 4,
   "metadata": {},
   "outputs": [
    {
     "data": {
      "text/plain": [
       "(-0.5, 199.5, 19.5, -0.5)"
      ]
     },
     "execution_count": 4,
     "metadata": {},
     "output_type": "execute_result"
    },
    {
     "data": {
      "image/png": "[encoded data removed]",
      "text/plain": [
       "<matplotlib.figure.Figure at 0x1ce052904e0>"
      ]
     },
     "metadata": {},
     "output_type": "display_data"
    }
   ],
   "source": [
    "indexRandRows = np.random.choice(X.shape[0],10)\n",
    "'''\n",
    "reshape(-1,20) rolls each 1x400 row back into a 20x20 grid.\n",
    "we can plot these as an image since each grid is a 20x20 grid of grayscale pixel values.\n",
    "'''\n",
    "plt.imshow(X[indexRandRows,1:].reshape(-1,20).T, cmap = 'gray')\n",
    "plt.axis('off')"
   ]
  },
  {
   "cell_type": "code",
   "execution_count": 5,
   "metadata": {},
   "outputs": [],
   "source": [
    "class NeuralNetwork:\n",
    "    def __init__(self, inputLayerSize,hiddenLayerSize,outputLayerSize):\n",
    "        '''\n",
    "        Layer sizes for three layer nn. Include bias terms.\n",
    "        '''\n",
    "        self.inputLayerSize = inputLayerSize #401.\n",
    "        self.hiddenLayerSize = hiddenLayerSize #26.\n",
    "        self.outputLayerSize = outputLayerSize #10.\n",
    "    def sigmoid(self,z):\n",
    "        return 1/(1+np.exp(-z))\n",
    "    def sigmoidGrad(self,z):\n",
    "        sig = self.sigmoid(z)\n",
    "        return np.multiply(sig,(1 - sig))\n",
    "    def unrollThetas(self, allParameters):\n",
    "        theta1Length = self.inputLayerSize*(self.hiddenLayerSize-1)\n",
    "        initialTheta = np.matrix(allParameters)\n",
    "        '''\n",
    "        Need to separate the thetas so that we can forwardPropagate,getCost, and backPropagate.\n",
    "        '''\n",
    "        self.theta1 = np.matrix(np.reshape(initialTheta[:,:theta1Length],(self.hiddenLayerSize-1,self.inputLayerSize))) #25x401.\n",
    "        self.theta2 = np.matrix(np.reshape(initialTheta[:,theta1Length:],(self.outputLayerSize,self.hiddenLayerSize))) #10x26.\n",
    "    def rollThetas(self,theta1,theta2):\n",
    "        '''\n",
    "        Need to roll all parameters into one array because fmin only has one initialTheta parameter.\n",
    "        '''\n",
    "        self.allParameters = np.concatenate((theta1.ravel(),theta2.ravel()))\n",
    "        return self.allParameters\n",
    "    def forwardPropagate(self,X,theta1,theta2):\n",
    "        numSamples = X.shape[0]\n",
    "        '''\n",
    "        Input layer.\n",
    "        '''\n",
    "        self.a1 = X\n",
    "        self.z2 = np.dot(self.a1,theta1.T)\n",
    "        '''\n",
    "        Hidden layer.\n",
    "        '''\n",
    "        self.a2 = self.sigmoid(self.z2)\n",
    "        self.a2 = np.insert(self.a2,0,np.ones(numSamples),axis =1)\n",
    "        '''\n",
    "        Output layer.\n",
    "        '''\n",
    "        self.z3 = np.dot(self.a2,theta2.T)\n",
    "        self.hypothesis = np.matrix(self.sigmoid(self.z3))\n",
    "        return self.hypothesis\n",
    "    def getCost(self,allParameters,X,y,regFactor):\n",
    "        '''\n",
    "        unroll allParameters into Theta1 and Theta2.\n",
    "        '''\n",
    "        self.unrollThetas(allParameters)\n",
    "        \n",
    "        self.forwardPropagate(X,self.theta1,self.theta2) #hypothesis is mxk.\n",
    "        numSamples,numLabels = self.hypothesis.shape \n",
    "        J = 0\n",
    "        for i in range(1,numLabels+1):\n",
    "            tempY = np.matrix([1 if label==i else 0 for label in y]).T #mx1\n",
    "            tempA3 = self.hypothesis[:,i-1]\n",
    "            J -= (np.dot(tempY.T,np.log(tempA3)) + np.dot((1-tempY.T),np.log(1-tempA3)))\n",
    "        J = J/numSamples\n",
    "        '''\n",
    "        Regularized portion of cost function.\n",
    "        '''\n",
    "        R = (np.sum(np.sum(np.square(self.theta1[:,1:])))+np.sum(np.sum(np.square(self.theta2[:,1:]))))*regFactor/2/numSamples\n",
    "        self.J = J+R\n",
    "        return self.J\n",
    "    def backPropagate(self,allParameters,X,y,regFactor):\n",
    "        '''\n",
    "        unroll allParameters into Theta1 and Theta2.\n",
    "        '''\n",
    "        self.unrollThetas(allParameters)\n",
    "        '''\n",
    "        propagate forward so that you can calculate the activation functions.\n",
    "        '''\n",
    "        self.forwardPropagate(X,self.theta1,self.theta2) #hypothesis is 5000x10.\n",
    "        numSamples, numLabels = self.hypothesis.shape\n",
    "        hiddenLayerSize = self.z2.shape[1]\n",
    "        Z2 = np.insert(self.z2,0,np.ones(numSamples),axis =1)\n",
    "        \n",
    "        Delta1 = np.zeros(theta1.shape) #25x401.\n",
    "        Delta2 = np.zeros(theta2.shape) #10x26.\n",
    "        \n",
    "        yMatrix = np.matrix(pd.get_dummies(y.ravel())) #5000x10.\n",
    "        for t in range(0,numSamples):\n",
    "            d3 = (self.hypothesis[t,:] - yMatrix[t,:]).T #10x1\n",
    "            '''\n",
    "            theta2 = 10x26. => theta2.Txd3 = 26x1. Z2 = 5000x26 (with bias column).\n",
    "            element wise multiplication of (theta2.Txd3)x(z2[t,:].T) results in a 26x1 vector.\n",
    "            '''\n",
    "            d2 = np.matrix(np.multiply(np.dot(self.theta2.T,d3),self.sigmoidGrad(Z2[t,:]).T)) #26x1.\n",
    "            d2 = d2[1:,:] #25x1.\n",
    "            a1Matrix = np.matrix(self.a1[t,:])\n",
    "            a2Matrix = np.matrix(self.a2[t,:])\n",
    "            Delta1 += np.dot(d2,a1Matrix) #a1Matrix = 1x401 => Delta1 = 25x401.\n",
    "            Delta2 += np.dot(d3,a2Matrix) #a2Matrix = 1x26. => Delta2 = 10x26.\n",
    "        Delta1 = Delta1/numSamples\n",
    "        Delta2 = Delta2/numSamples\n",
    "        '''\n",
    "        Regularization\n",
    "        '''\n",
    "        Delta1[:,1:] = Delta1[:,1:] + self.theta1[:,1:]*regFactor/numSamples\n",
    "        Delta2[:,1:] = Delta2[:,1:] + self.theta2[:,1:]*regFactor/numSamples\n",
    "        \n",
    "        self.grad = np.concatenate((Delta1.ravel(),Delta2.ravel()))\n",
    "        return self.grad\n",
    "    def numericalGradient(self,allParameters,X,y,regFactor,numComputations):\n",
    "        '''\n",
    "        Calculate the slope of the cost function and use it to check that backPropagate() was implemented correctly.\n",
    "        '''\n",
    "        self.gradApprox = np.zeros(numComputations)\n",
    "        numSamples = allParameters.shape[0]\n",
    "        e = 10**-4\n",
    "        \n",
    "        randIndexes = np.random.choice(numSamples,numComputations)\n",
    "        for i in range(0,numComputations):\n",
    "            thetaPlus = np.matrix(allParameters)\n",
    "            thetaMinus = np.matrix(allParameters)\n",
    "            thetaPlus[0,randIndexes[i]] = allParameters[randIndexes[i]] + e\n",
    "            thetaMinus[0,randIndexes[i]] = allParameters[randIndexes[i]] - e\n",
    "            self.gradApprox[i] = (self.getCost(thetaPlus,X,y,regFactor) - self.getCost(thetaMinus,X,y,regFactor))/2/e       \n",
    "        return self.gradApprox,randIndexes\n",
    "    def checkNNGradient(self,allParameters,X,y,regFactor,numComparisons):\n",
    "        numGrad, randIndexes = self.numericalGradient(allParameters,X,y,regFactor,numComparisons)\n",
    "        bpGrad = self.backPropagate(allParameters,X,y,regFactor)\n",
    "        bpGrad = bpGrad[randIndexes]\n",
    "        \n",
    "        diff = np.linalg.norm(numGrad - bpGrad)/np.linalg.norm(numGrad+bpGrad)\n",
    "        return diff,numGrad,bpGrad[:numComparisons],randIndexes\n",
    "    def randInitializeWeights(self, initialEpsilon = 0.12):\n",
    "        '''\n",
    "        weights should be a random value in [-initialEpsilon,initialEpsilon].\n",
    "        '''\n",
    "        self.theta1 = np.random.rand(self.hiddenLayerSize -1, self.inputLayerSize)*2*initialEpsilon - initialEpsilon\n",
    "        self.theta2 = np.random.rand(self.outputLayerSize,self.hiddenLayerSize)*2*initialEpsilon - initialEpsilon\n",
    "        self.rollThetas(self.theta1,self.theta2)\n",
    "        return self.allParameters\n",
    "    def minimizeCost(self,allParameters,X,y,regFactor,optMethod = None, maxIterations = 250):\n",
    "        self.fmin = optimize.minimize(fun=self.getCost,x0=allParameters,method = optMethod, \n",
    "                                      jac = self.backPropagate ,args=(X,y,regFactor), options = {'maxiter':maxIterations})\n",
    "        return self.fmin\n",
    "    def predict(self,allParameters,X,y):\n",
    "        self.unrollThetas(allParameters)\n",
    "        self.forwardPropagate(X,self.theta1,self.theta2)\n",
    "        '''\n",
    "        Remember that labels go from 1 - 10.\n",
    "        '''\n",
    "        self.allPredictions = np.argmax(self.hypothesis, axis =1) + 1\n",
    "        self.predictionAccuracy = round(100*np.mean(self.allPredictions == y),2)\n",
    "        return self.predictionAccuracy"
   ]
  },
  {
   "cell_type": "code",
   "execution_count": 6,
   "metadata": {},
   "outputs": [
    {
     "data": {
      "text/plain": [
       "dict_keys(['__header__', '__version__', '__globals__', 'Theta1', 'Theta2'])"
      ]
     },
     "execution_count": 6,
     "metadata": {},
     "output_type": "execute_result"
    }
   ],
   "source": [
    "weights = loadmat('ex4weights.mat')\n",
    "weights.keys()"
   ]
  },
  {
   "cell_type": "code",
   "execution_count": 7,
   "metadata": {},
   "outputs": [
    {
     "data": {
      "text/plain": [
       "(10285,)"
      ]
     },
     "execution_count": 7,
     "metadata": {},
     "output_type": "execute_result"
    }
   ],
   "source": [
    "theta1 = weights['Theta1'] #25x401\n",
    "theta2= weights['Theta2'] #10x26\n",
    "'''\n",
    "Roll all the weights into a 1-D array.  This is necessary because the optmization algorithms \n",
    "only accept one parameter for the weights.\n",
    "'''\n",
    "nn = NeuralNetwork(inputSize+1,hiddenSize+1,outputSize)\n",
    "initialTheta = nn.rollThetas(theta1,theta2)\n",
    "initialTheta.shape"
   ]
  },
  {
   "cell_type": "code",
   "execution_count": 8,
   "metadata": {},
   "outputs": [
    {
     "name": "stdout",
     "output_type": "stream",
     "text": [
      "Cost with lambda = 0: 0.287629165161319\n",
      "Cost with lambda = 1: 0.3837698590909237\n",
      "\n",
      "Sigmoid Gradient evaluated at [[-1.  -0.5  0.   0.5  1. ]]:\n",
      "[[0.19661193 0.23500371 0.25       0.23500371 0.19661193]]\n"
     ]
    }
   ],
   "source": [
    "'''\n",
    "Check that the unregularized and regularized portions of cost function are working properly.\n",
    "'''\n",
    "for regFactor in [0,1]:\n",
    "    cost = nn.getCost(initialTheta,X,y,regFactor)\n",
    "    print('Cost with lambda = ' + str(regFactor) + ': ' + str(cost[0,0]))\n",
    "'''\n",
    "Check that the gradient of the sigmoid function is being calculated correctly.\n",
    "'''\n",
    "dummy = np.matrix([-1, -0.5, 0, 0.5, 1])\n",
    "g = nn.sigmoidGrad(dummy)\n",
    "print('\\nSigmoid Gradient evaluated at ' + str(dummy) + ':')\n",
    "print(g)"
   ]
  },
  {
   "cell_type": "code",
   "execution_count": 9,
   "metadata": {},
   "outputs": [
    {
     "name": "stdout",
     "output_type": "stream",
     "text": [
      "Index: 1383 | numericalGrad: 1.517e-04 | backPropagate: 1.517e-04\n",
      "Index: 1024 | numericalGrad: 3.543e-04 | backPropagate: 3.543e-04\n",
      "Index: 8260 | numericalGrad: -1.438e-05 | backPropagate: -1.438e-05\n",
      "Index: 62 | numericalGrad: -1.757e-05 | backPropagate: -1.757e-05\n",
      "Index: 10064 | numericalGrad: 1.868e-01 | backPropagate: 1.868e-01\n",
      "Index: 5985 | numericalGrad: -1.281e-05 | backPropagate: -1.281e-05\n",
      "Index: 4257 | numericalGrad: 1.048e-02 | backPropagate: 1.048e-02\n",
      "Index: 3664 | numericalGrad: 1.549e-04 | backPropagate: 1.549e-04\n",
      "Index: 10260 | numericalGrad: 1.865e-01 | backPropagate: 1.865e-01\n",
      "Index: 6798 | numericalGrad: -2.116e-05 | backPropagate: -2.116e-05\n",
      "\n",
      "The relative difference between the two solutions is 5.028e-11; this value should be less than 1e-9 if backPropagate was implemented correctly.\n",
      "\n",
      "Note that we printed 10 of the 25 gradient comparison(s) that were made.\n"
     ]
    }
   ],
   "source": [
    "'''\n",
    "Randomly initialize weights.  Avoid initializing weights to zeros because that will lead to identical parameters going\n",
    "into each hidden unit for each input.\n",
    "'''\n",
    "randWeights = nn.randInitializeWeights()\n",
    "numComparisons = 25\n",
    "'''\n",
    "Randomly compare numComparisons of the gradient values from the backpropagation algorithm to those calculated numerically and \n",
    "ensure that they are close in value.  Avoid using the numericalGrad algorithm in when minimizing the cost function because it \n",
    "is slow.\n",
    "'''\n",
    "normDiff, numGrad,bpGrad,randIndexes = nn.checkNNGradient(randWeights,X,y,regFactor,numComparisons)\n",
    "numLoops = numComparisons\n",
    "numMaxLoops = 10\n",
    "'''\n",
    "Let's avoid printing out more than numMaxLoops comparisons.\n",
    "'''\n",
    "try:\n",
    "    for i in range(0,numMaxLoops):\n",
    "        numGradient = '{:.3e}'.format(float(numGrad[i]))\n",
    "        bpGradient = '{:.3e}'.format(float(bpGrad[i]))\n",
    "        print('Index: %s | numericalGrad: %s | backPropagate: %s' %(randIndexes[i],numGradient,bpGradient))\n",
    "    numLoops = numMaxLoops\n",
    "except:\n",
    "    pass\n",
    "    \n",
    "normDiff = '{:.3e}'.format(float(normDiff))\n",
    "print('\\nThe relative difference between the two solutions is %s; this value should be ' \\\n",
    "      'less than 1e-9 if backPropagate was implemented correctly.' %(normDiff))\n",
    "print('\\nNote that we printed %s of the %s gradient comparison(s) that were made.' %(numLoops,numComparisons))"
   ]
  },
  {
   "cell_type": "code",
   "execution_count": 10,
   "metadata": {},
   "outputs": [
    {
     "name": "stdout",
     "output_type": "stream",
     "text": [
      "     fun: matrix([[0.33534688]])\n",
      "     jac: array([ 3.91553012e-05, -1.11518225e-06, -6.70050235e-07, ...,\n",
      "       -3.39656583e-04, -1.88747701e-04, -1.02241037e-04])\n",
      " message: 'Max. number of function evaluations reached'\n",
      "    nfev: 250\n",
      "     nit: 19\n",
      "  status: 3\n",
      " success: False\n",
      "       x: array([-0.7217267 , -0.00557591, -0.00335025, ...,  0.87218384,\n",
      "       -0.09506831,  2.52653745])\n",
      "\n",
      "Prediction accuracy: 99.16%.\n",
      "Note that we used the TNC optimization algorithm to minimize the cost function.\n"
     ]
    }
   ],
   "source": [
    "regFactor = 1\n",
    "optMethod = 'TNC' #Truncated Newton Method.\n",
    "maxIterations = 250 \n",
    "'''\n",
    "Minimize the cost function.\n",
    "'''\n",
    "fmin = nn.minimizeCost(randWeights,X,y,regFactor,optMethod,maxIterations)\n",
    "print(fmin)\n",
    "calcWeights = fmin['x']\n",
    "'''\n",
    "Use the weights that minimized the cost function to predict values.\n",
    "'''\n",
    "nn.predict(calcWeights,X,y)\n",
    "\n",
    "print('\\nPrediction accuracy: %s%%.' %(nn.predictionAccuracy))\n",
    "print('Note that we used the %s optimization algorithm to minimize the cost function.' %(optMethod))"
   ]
  }
 ],
 "metadata": {
  "kernelspec": {
   "display_name": "Python 3",
   "language": "python",
   "name": "python3"
  },
  "language_info": {
   "codemirror_mode": {
    "name": "ipython",
    "version": 3
   },
   "file_extension": ".py",
   "mimetype": "text/x-python",
   "name": "python",
   "nbconvert_exporter": "python",
   "pygments_lexer": "ipython3",
   "version": "3.6.4"
  }
 },
 "nbformat": 4,
 "nbformat_minor": 2
}
