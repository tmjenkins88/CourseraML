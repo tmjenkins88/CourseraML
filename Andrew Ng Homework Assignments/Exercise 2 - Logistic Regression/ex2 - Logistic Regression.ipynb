{
 "cells": [
  {
   "cell_type": "code",
   "execution_count": 1,
   "metadata": {},
   "outputs": [],
   "source": [
    "import numpy as np\n",
    "import pandas as pd\n",
    "import matplotlib.pyplot as plt\n",
    "import seaborn as sns\n",
    "%matplotlib inline"
   ]
  },
  {
   "cell_type": "code",
   "execution_count": 2,
   "metadata": {},
   "outputs": [
    {
     "data": {
      "text/html": [
       "<div>\n",
       "<style scoped>\n",
       "    .dataframe tbody tr th:only-of-type {\n",
       "        vertical-align: middle;\n",
       "    }\n",
       "\n",
       "    .dataframe tbody tr th {\n",
       "        vertical-align: top;\n",
       "    }\n",
       "\n",
       "    .dataframe thead th {\n",
       "        text-align: right;\n",
       "    }\n",
       "</style>\n",
       "<table border=\"1\" class=\"dataframe\">\n",
       "  <thead>\n",
       "    <tr style=\"text-align: right;\">\n",
       "      <th></th>\n",
       "      <th>Bias</th>\n",
       "      <th>Test 1</th>\n",
       "      <th>Test 2</th>\n",
       "    </tr>\n",
       "  </thead>\n",
       "  <tbody>\n",
       "    <tr>\n",
       "      <th>0</th>\n",
       "      <td>1.0</td>\n",
       "      <td>34.623660</td>\n",
       "      <td>78.024693</td>\n",
       "    </tr>\n",
       "    <tr>\n",
       "      <th>1</th>\n",
       "      <td>1.0</td>\n",
       "      <td>30.286711</td>\n",
       "      <td>43.894998</td>\n",
       "    </tr>\n",
       "    <tr>\n",
       "      <th>2</th>\n",
       "      <td>1.0</td>\n",
       "      <td>35.847409</td>\n",
       "      <td>72.902198</td>\n",
       "    </tr>\n",
       "    <tr>\n",
       "      <th>3</th>\n",
       "      <td>1.0</td>\n",
       "      <td>60.182599</td>\n",
       "      <td>86.308552</td>\n",
       "    </tr>\n",
       "    <tr>\n",
       "      <th>4</th>\n",
       "      <td>1.0</td>\n",
       "      <td>79.032736</td>\n",
       "      <td>75.344376</td>\n",
       "    </tr>\n",
       "  </tbody>\n",
       "</table>\n",
       "</div>"
      ],
      "text/plain": [
       "   Bias     Test 1     Test 2\n",
       "0   1.0  34.623660  78.024693\n",
       "1   1.0  30.286711  43.894998\n",
       "2   1.0  35.847409  72.902198\n",
       "3   1.0  60.182599  86.308552\n",
       "4   1.0  79.032736  75.344376"
      ]
     },
     "execution_count": 2,
     "metadata": {},
     "output_type": "execute_result"
    }
   ],
   "source": [
    "dfData = pd.read_csv('ex2data1.txt', names = ['Test 1','Test 2','Accepted'])\n",
    "dfTarget = dfData['Accepted'] \n",
    "'''\n",
    "Add ones column to features.\n",
    "'''\n",
    "intNumSamples = dfData['Test 1'].count()\n",
    "onesColumn = np.ones(intNumSamples)\n",
    "dfFeatures = pd.DataFrame({'Bias':onesColumn})\n",
    "dfFeatures[['Test 1','Test 2']] = dfData[['Test 1','Test 2']]\n",
    "#dfFeatures['Bias'] = onesColumn # = pd.DataFrame(onesColumn, columns = ['Bias'])\n",
    "dfFeatures.head()"
   ]
  },
  {
   "cell_type": "code",
   "execution_count": 3,
   "metadata": {},
   "outputs": [
    {
     "data": {
      "text/plain": [
       "<matplotlib.axes._subplots.AxesSubplot at 0x1d9f15e1630>"
      ]
     },
     "execution_count": 3,
     "metadata": {},
     "output_type": "execute_result"
    },
    {
     "data": {
      "image/png": "[encoded data removed]",
      "text/plain": [
       "<matplotlib.figure.Figure at 0x1d9eb0aac50>"
      ]
     },
     "metadata": {},
     "output_type": "display_data"
    }
   ],
   "source": [
    "'''\n",
    "Visualize data.\n",
    "'''\n",
    "sns.set_style('whitegrid')\n",
    "sns.countplot(x = 'Accepted',data = dfData,palette='RdBu_r')"
   ]
  },
  {
   "cell_type": "code",
   "execution_count": 4,
   "metadata": {},
   "outputs": [
    {
     "data": {
      "text/plain": [
       "<matplotlib.legend.Legend at 0x1d9f19db5f8>"
      ]
     },
     "execution_count": 4,
     "metadata": {},
     "output_type": "execute_result"
    },
    {
     "data": {
      "image/png": "[encoded data removed]",
      "text/plain": [
       "<matplotlib.figure.Figure at 0x1d9f1914f98>"
      ]
     },
     "metadata": {},
     "output_type": "display_data"
    }
   ],
   "source": [
    "dfAccepted = dfData[dfData['Accepted']==1]\n",
    "dfRejected = dfData[dfData['Accepted']==0]\n",
    "\n",
    "fig,axes = plt.subplots(figsize = (12,8))\n",
    "axes.scatter(dfAccepted['Test 1'],dfAccepted['Test 2'],c='g',marker = '+',label = 'Accepted')\n",
    "axes.scatter(dfRejected['Test 1'],dfRejected['Test 2'],c ='r',marker = 'x',label ='Rejected')\n",
    "axes.set_xlabel('Test 1')\n",
    "axes.set_ylabel('Test 2')\n",
    "axes.legend()"
   ]
  },
  {
   "cell_type": "code",
   "execution_count": 5,
   "metadata": {},
   "outputs": [],
   "source": [
    "from scipy import optimize\n",
    "class LogisticRegression:\n",
    "    def __init__(self):\n",
    "        pass\n",
    "    def sigmoid(self,z):\n",
    "        return 1/(1+np.exp(-z))\n",
    "    def getCost(self,theta,X,y,regFactor = 0):\n",
    "        theta = np.matrix(theta)\n",
    "        hypothesis = self.sigmoid(np.dot(X,theta.T))\n",
    "        intNumSamples = X.shape[0]\n",
    "        J = -(np.dot(y.T,(np.log(hypothesis))) + np.dot((1-y).T,np.log(1-hypothesis)))/intNumSamples\n",
    "        '''\n",
    "        Don't add theta0.\n",
    "        '''\n",
    "        R = np.sum(np.square(theta[1:,0]))*regFactor/2/intNumSamples\n",
    "        J += R\n",
    "        self.cost = np.array(J)\n",
    "        return self.cost\n",
    "    def getGrad(self,theta,X,y,regFactor = 0):\n",
    "        theta = np.matrix(theta)\n",
    "        intNumSamples = X.shape[0]\n",
    "        hypothesis = self.sigmoid(np.dot(X,theta.T))\n",
    "        error = hypothesis -y\n",
    "        tempTheta =np.copy(theta)\n",
    "\n",
    "        tempTheta[:,0] = 0\n",
    "        '''\n",
    "        Don't regularize theta0.\n",
    "        '''\n",
    "        grad =  np.dot(X.T,error)/intNumSamples + tempTheta.T*regFactor/intNumSamples\n",
    "        self.grad = np.array(grad).ravel()\n",
    "        return self.grad\n",
    "    def optimizeTheta(self,theta,X,y,regFactor):\n",
    "        self.fmin = optimize.minimize(fun=self.getCost,x0=theta,method = None,jac = self.getGrad,args=(X,y,regFactor))\n",
    "        return self.fmin\n",
    "    def predictAcceptance(self,theta,scores):\n",
    "        return round(100*self.sigmoid(np.dot(scores,theta.T)),2)\n",
    "    def getTrainAccuracy(self,theta,X,y,threshold):\n",
    "        intNumSamples = X.shape[0]\n",
    "        theta = np.matrix(theta)\n",
    "        '''\n",
    "        Calculate probability of being admitted.\n",
    "        '''\n",
    "        probabilities = self.sigmoid(np.dot(X,theta.T))\n",
    "        correctPrediction = np.zeros((intNumSamples,1))\n",
    "        for i in range(0,intNumSamples):\n",
    "            if probabilities[i] >= threshold:\n",
    "                '''\n",
    "                Did the student actually get admitted?\n",
    "                '''\n",
    "                if y[i] == 1: correctPrediction[i,0] = 1\n",
    "            else:\n",
    "                '''\n",
    "                Did the student actually not get admitted?\n",
    "                '''\n",
    "                if y[i] ==0:correctPrediction[i,0] = 1\n",
    "        self.probability = 100*correctPrediction.sum()/intNumSamples\n",
    "        return round(self.probability,2)"
   ]
  },
  {
   "cell_type": "code",
   "execution_count": 6,
   "metadata": {},
   "outputs": [],
   "source": [
    "X =np.matrix(dfFeatures)\n",
    "y = np.matrix(dfTarget).T\n",
    "lm = LogisticRegression()"
   ]
  },
  {
   "cell_type": "code",
   "execution_count": 7,
   "metadata": {},
   "outputs": [
    {
     "name": "stdout",
     "output_type": "stream",
     "text": [
      "Cost: [[0.69314718]]\n",
      "Gradient: [ -0.1        -12.00921659 -11.26284221]\n"
     ]
    }
   ],
   "source": [
    "'''\n",
    "Testing.\n",
    "'''\n",
    "theta =np.zeros(X.shape[1])\n",
    "regFactor = 0 #unregularized.\n",
    "lm.getCost(theta,X,y,regFactor)\n",
    "lm.getGrad(theta,X,y,regFactor)\n",
    "print('Cost: ' + str(lm.cost))\n",
    "print('Gradient: ' + str(lm.grad))"
   ]
  },
  {
   "cell_type": "code",
   "execution_count": 8,
   "metadata": {},
   "outputs": [
    {
     "name": "stderr",
     "output_type": "stream",
     "text": [
      "C:\\Users\\tmjen\\Anaconda3\\lib\\site-packages\\ipykernel_launcher.py:11: RuntimeWarning: divide by zero encountered in log\n",
      "  # This is added back by InteractiveShellApp.init_path()\n"
     ]
    },
    {
     "data": {
      "text/plain": [
       "      fun: 0.2034977015894438\n",
       " hess_inv: array([[ 3.31474479e+03, -2.63892205e+01, -2.70237122e+01],\n",
       "       [-2.63892205e+01,  2.23869433e-01,  2.02682332e-01],\n",
       "       [-2.70237122e+01,  2.02682332e-01,  2.35335117e-01]])\n",
       "      jac: array([-9.52476829e-09, -9.31921322e-07, -2.82608935e-07])\n",
       "  message: 'Optimization terminated successfully.'\n",
       "     nfev: 31\n",
       "      nit: 23\n",
       "     njev: 31\n",
       "   status: 0\n",
       "  success: True\n",
       "        x: array([-25.16133284,   0.2062317 ,   0.2014716 ])"
      ]
     },
     "execution_count": 8,
     "metadata": {},
     "output_type": "execute_result"
    }
   ],
   "source": [
    "theta = np.zeros(X.shape[1])\n",
    "regFactor = 0\n",
    "'''\n",
    "Calculate minimum theta using SciPy's optimization library.\n",
    "'''\n",
    "fmin = lm.optimizeTheta(theta,X,y,regFactor)\n",
    "fmin"
   ]
  },
  {
   "cell_type": "code",
   "execution_count": 9,
   "metadata": {},
   "outputs": [
    {
     "name": "stdout",
     "output_type": "stream",
     "text": [
      "89.0% train accuracy.\n",
      "77.63% of getting in with test scores of 45% and 85%.\n"
     ]
    }
   ],
   "source": [
    "'''\n",
    "Use minimum theta to make some predictions.\n",
    "'''\n",
    "theta = fmin['x']\n",
    "\n",
    "score1 = 45\n",
    "score2 = 85\n",
    "\n",
    "probAccepted = lm.getTrainAccuracy(theta,X,y,0.5)\n",
    "print(str(probAccepted) + '% train accuracy.')\n",
    "\n",
    "trainAccuracy = lm.predictAcceptance(theta, np.array([1,score1,score2]))\n",
    "print(str(trainAccuracy) + '%% of getting in with test scores of %s%% and %s%%.' %(score1,score2))"
   ]
  }
 ],
 "metadata": {
  "kernelspec": {
   "display_name": "Python 3",
   "language": "python",
   "name": "python3"
  },
  "language_info": {
   "codemirror_mode": {
    "name": "ipython",
    "version": 3
   },
   "file_extension": ".py",
   "mimetype": "text/x-python",
   "name": "python",
   "nbconvert_exporter": "python",
   "pygments_lexer": "ipython3",
   "version": "3.6.4"
  }
 },
 "nbformat": 4,
 "nbformat_minor": 2
}
