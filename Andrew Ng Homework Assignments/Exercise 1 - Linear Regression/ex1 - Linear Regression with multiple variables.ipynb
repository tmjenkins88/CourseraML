{
 "cells": [
  {
   "cell_type": "code",
   "execution_count": 1,
   "metadata": {},
   "outputs": [],
   "source": [
    "import numpy as np\n",
    "import pandas as pd\n",
    "import matplotlib.pyplot as plt\n",
    "import seaborn as sns\n",
    "%matplotlib inline"
   ]
  },
  {
   "cell_type": "code",
   "execution_count": 2,
   "metadata": {},
   "outputs": [
    {
     "data": {
      "text/html": [
       "<div>\n",
       "<style scoped>\n",
       "    .dataframe tbody tr th:only-of-type {\n",
       "        vertical-align: middle;\n",
       "    }\n",
       "\n",
       "    .dataframe tbody tr th {\n",
       "        vertical-align: top;\n",
       "    }\n",
       "\n",
       "    .dataframe thead th {\n",
       "        text-align: right;\n",
       "    }\n",
       "</style>\n",
       "<table border=\"1\" class=\"dataframe\">\n",
       "  <thead>\n",
       "    <tr style=\"text-align: right;\">\n",
       "      <th></th>\n",
       "      <th>Size</th>\n",
       "      <th>Bedrooms</th>\n",
       "      <th>Price</th>\n",
       "    </tr>\n",
       "  </thead>\n",
       "  <tbody>\n",
       "    <tr>\n",
       "      <th>0</th>\n",
       "      <td>2104</td>\n",
       "      <td>3</td>\n",
       "      <td>399900</td>\n",
       "    </tr>\n",
       "    <tr>\n",
       "      <th>1</th>\n",
       "      <td>1600</td>\n",
       "      <td>3</td>\n",
       "      <td>329900</td>\n",
       "    </tr>\n",
       "    <tr>\n",
       "      <th>2</th>\n",
       "      <td>2400</td>\n",
       "      <td>3</td>\n",
       "      <td>369000</td>\n",
       "    </tr>\n",
       "    <tr>\n",
       "      <th>3</th>\n",
       "      <td>1416</td>\n",
       "      <td>2</td>\n",
       "      <td>232000</td>\n",
       "    </tr>\n",
       "    <tr>\n",
       "      <th>4</th>\n",
       "      <td>3000</td>\n",
       "      <td>4</td>\n",
       "      <td>539900</td>\n",
       "    </tr>\n",
       "  </tbody>\n",
       "</table>\n",
       "</div>"
      ],
      "text/plain": [
       "   Size  Bedrooms   Price\n",
       "0  2104         3  399900\n",
       "1  1600         3  329900\n",
       "2  2400         3  369000\n",
       "3  1416         2  232000\n",
       "4  3000         4  539900"
      ]
     },
     "execution_count": 2,
     "metadata": {},
     "output_type": "execute_result"
    }
   ],
   "source": [
    "'''\n",
    "Get data from text file.\n",
    "'''\n",
    "dfHousingData = pd.read_csv('ex1data2.txt', names =['Size','Bedrooms','Price'])\n",
    "dfFeatures = dfHousingData[['Size','Bedrooms']]\n",
    "dfTarget = dfHousingData['Price']\n",
    "dfHousingData.head()"
   ]
  },
  {
   "cell_type": "code",
   "execution_count": 3,
   "metadata": {},
   "outputs": [],
   "source": [
    "'''\n",
    "Get average and standard deviation of feature columns so the data can be scaled.\n",
    "'''\n",
    "avgFeatures = np.matrix(dfFeatures.mean())\n",
    "stdFeatures = np.matrix(dfFeatures.std())\n",
    "dfScaledFeatures = (dfFeatures - dfFeatures.mean())/dfFeatures.std()"
   ]
  },
  {
   "cell_type": "code",
   "execution_count": 4,
   "metadata": {},
   "outputs": [
    {
     "data": {
      "text/plain": [
       "<seaborn.axisgrid.PairGrid at 0x22f721d59e8>"
      ]
     },
     "execution_count": 4,
     "metadata": {},
     "output_type": "execute_result"
    },
    {
     "data": {
      "image/png": "[encoded data removed]",
      "text/plain": [
       "<matplotlib.figure.Figure at 0x22f6c2048d0>"
      ]
     },
     "metadata": {},
     "output_type": "display_data"
    }
   ],
   "source": [
    "'''\n",
    "Explore relationship across dataset.  There seems to be a correlation with Size and Price.\n",
    "'''\n",
    "sns.pairplot(dfHousingData)"
   ]
  },
  {
   "cell_type": "code",
   "execution_count": 5,
   "metadata": {},
   "outputs": [],
   "source": [
    "def addBiasColumn(X):\n",
    "    # Add a ones column for the bias terms.\n",
    "    intNumSamples = X.shape[0]\n",
    "    onesColumn = np.ones(shape = (intNumSamples,1))\n",
    "    newX = np.concatenate([onesColumn,X],axis =1)\n",
    "    return newX"
   ]
  },
  {
   "cell_type": "code",
   "execution_count": 6,
   "metadata": {},
   "outputs": [],
   "source": [
    "'''\n",
    "Convert dataframes to matrices so that we can use numpy.\n",
    "'''\n",
    "scaledX = np.matrix(dfScaledFeatures)\n",
    "X =np.matrix(dfFeatures)\n",
    "y = np.matrix(dfTarget).T\n",
    "'''\n",
    "Add ones column for bias terms.\n",
    "'''\n",
    "scaledX = addBiasColumn(scaledX)\n",
    "X = addBiasColumn(X)\n",
    "'''\n",
    "Initialize theta.\n",
    "'''\n",
    "theta = np.matrix(np.zeros((X.shape[1],1)))"
   ]
  },
  {
   "cell_type": "code",
   "execution_count": 7,
   "metadata": {},
   "outputs": [],
   "source": [
    "class LinearRegression:\n",
    "    def __init__(self):\n",
    "        pass\n",
    "    def computeCost(self,X,y,theta,lambdafactor=0):\n",
    "        intNumSamples = y.shape[0]\n",
    "        hypothesis = np.dot(X,theta)\n",
    "        #   Unregularized cost function.\n",
    "        J = np.sum(np.square(hypothesis -y))/2/intNumSamples\n",
    "        '''\n",
    "        #   Regularization term.  Don't square theta0.\n",
    "        R = lambdafactor*np.sum(np.square(theta[1:,0]))\n",
    "\n",
    "        #   Regularized cost function.\n",
    "        J += R\n",
    "        '''\n",
    "        return J\n",
    "    def gradientDescent(self,X,y,theta,learningRate = 0.01,intIterations = 100):\n",
    "        intNumSamples,intNumFeatures = X.shape\n",
    "        tempTheta = np.copy(theta)\n",
    "        costHistory = np.zeros((intIterations,1))\n",
    "\n",
    "        for i in range(0,intIterations):\n",
    "            error = np.dot(X,theta) - y\n",
    "            tempTheta = theta - np.dot(X.T,error)*learningRate/intNumSamples\n",
    "            theta = np.copy(tempTheta)\n",
    "            costHistory[i,0] = self.computeCost(X,y,theta)\n",
    "        self.theta = theta\n",
    "        self.costHistory = costHistory\n",
    "        #return theta, costHistory\n",
    "    def normEqn(self,X,y,regularized = False, lambdafactor = 0):\n",
    "        if regularized:\n",
    "            regIdentity = lambdafactor * np.eye(X.shape[1])\n",
    "            regIdentity[0,0] = 0\n",
    "            self.theta = np.dot(np.dot(np.linalg.inv(np.dot(X.T,X) - regIdentity),X.T),y)\n",
    "        else:\n",
    "            self.theta = np.dot(np.dot(np.linalg.inv(np.dot(X.T,X)),X.T),y)\n",
    "        #return calculatedTheta"
   ]
  },
  {
   "cell_type": "code",
   "execution_count": 8,
   "metadata": {},
   "outputs": [
    {
     "name": "stdout",
     "output_type": "stream",
     "text": [
      "[[340412.65345227]\n",
      " [110572.96193087]\n",
      " [ -6591.38592285]]\n"
     ]
    }
   ],
   "source": [
    "intIterations = 50\n",
    "learningRate = 0.3\n",
    "lm = LinearRegression()\n",
    "lm.gradientDescent(scaledX,y,theta,learningRate,intIterations)\n",
    "calcTheta = lm.theta\n",
    "print(lm.theta)"
   ]
  },
  {
   "cell_type": "code",
   "execution_count": 9,
   "metadata": {},
   "outputs": [
    {
     "data": {
      "text/plain": [
       "Text(0,0.5,'Cost Function J')"
      ]
     },
     "execution_count": 9,
     "metadata": {},
     "output_type": "execute_result"
    },
    {
     "data": {
      "image/png": "[encoded data removed]",
      "text/plain": [
       "<matplotlib.figure.Figure at 0x22f72aa3cc0>"
      ]
     },
     "metadata": {},
     "output_type": "display_data"
    }
   ],
   "source": [
    "'''\n",
    "Plot cost function history to see if it minimizes properly.\n",
    "'''\n",
    "xValues = np.arange(1,intIterations+1)\n",
    "fig, axes = plt.subplots(figsize =(12,6))\n",
    "axes.plot(xValues,lm.costHistory)\n",
    "axes.set_xlabel('Iteration')\n",
    "axes.set_ylabel('Cost Function J')"
   ]
  },
  {
   "cell_type": "code",
   "execution_count": 10,
   "metadata": {},
   "outputs": [
    {
     "name": "stdout",
     "output_type": "stream",
     "text": [
      "Estimated price for 1650 sq-ft, 3 br house:\n",
      "via gradient descent: [[293094.09684071]]\n",
      "via normal equation: [[293081.46433489]]\n"
     ]
    }
   ],
   "source": [
    "parameters = np.matrix(np.array([1,1650,3], dtype = 'f'))\n",
    "scaledParameters = np.copy(parameters)\n",
    "for i in range(1,scaledParameters.shape[1]):\n",
    "    scaledParameters[0,i] = (parameters[0,i]-avgFeatures[0,i-1])/stdFeatures[0,i-1]\n",
    "estimatedPrice = np.dot(scaledParameters,calcTheta)\n",
    "\n",
    "print('Estimated price for 1650 sq-ft, 3 br house:')\n",
    "print('via gradient descent: %s' %estimatedPrice)\n",
    "\n",
    "lm.normEqn(X,y)\n",
    "estimatedPrice = np.dot(parameters,lm.theta)\n",
    "print('via normal equation: %s' %estimatedPrice)"
   ]
  },
  {
   "cell_type": "code",
   "execution_count": 11,
   "metadata": {},
   "outputs": [
    {
     "name": "stdout",
     "output_type": "stream",
     "text": [
      "[340412.6595744681, 110631.0502788461, -6649.474270819794]\n",
      "Estimated price using sklearn: [293081.46305335]\n"
     ]
    }
   ],
   "source": [
    "from sklearn.linear_model import LinearRegression\n",
    "lm = LinearRegression()\n",
    "lm.fit(dfScaledFeatures,dfTarget)\n",
    "\n",
    "calcTheta = []\n",
    "calcTheta.append(lm.intercept_)\n",
    "\n",
    "for item in lm.coef_:\n",
    "    calcTheta.append(item)\n",
    "estimatedPrice = np.dot(scaledParameters,calcTheta)\n",
    "print(calcTheta)\n",
    "print('Estimated price using sklearn: %s' %estimatedPrice)\n"
   ]
  }
 ],
 "metadata": {
  "kernelspec": {
   "display_name": "Python 3",
   "language": "python",
   "name": "python3"
  },
  "language_info": {
   "codemirror_mode": {
    "name": "ipython",
    "version": 3
   },
   "file_extension": ".py",
   "mimetype": "text/x-python",
   "name": "python",
   "nbconvert_exporter": "python",
   "pygments_lexer": "ipython3",
   "version": "3.6.4"
  }
 },
 "nbformat": 4,
 "nbformat_minor": 2
}
