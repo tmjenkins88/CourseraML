{
 "cells": [
  {
   "cell_type": "code",
   "execution_count": 1,
   "metadata": {},
   "outputs": [],
   "source": [
    "import numpy as np\n",
    "import pandas as pd\n",
    "import matplotlib.pyplot as plt\n",
    "import seaborn as sns\n",
    "%matplotlib inline"
   ]
  },
  {
   "cell_type": "code",
   "execution_count": 2,
   "metadata": {},
   "outputs": [
    {
     "data": {
      "text/html": [
       "<div>\n",
       "<style scoped>\n",
       "    .dataframe tbody tr th:only-of-type {\n",
       "        vertical-align: middle;\n",
       "    }\n",
       "\n",
       "    .dataframe tbody tr th {\n",
       "        vertical-align: top;\n",
       "    }\n",
       "\n",
       "    .dataframe thead th {\n",
       "        text-align: right;\n",
       "    }\n",
       "</style>\n",
       "<table border=\"1\" class=\"dataframe\">\n",
       "  <thead>\n",
       "    <tr style=\"text-align: right;\">\n",
       "      <th></th>\n",
       "      <th>Population</th>\n",
       "      <th>Profit</th>\n",
       "    </tr>\n",
       "  </thead>\n",
       "  <tbody>\n",
       "    <tr>\n",
       "      <th>0</th>\n",
       "      <td>6.1101</td>\n",
       "      <td>17.5920</td>\n",
       "    </tr>\n",
       "    <tr>\n",
       "      <th>1</th>\n",
       "      <td>5.5277</td>\n",
       "      <td>9.1302</td>\n",
       "    </tr>\n",
       "    <tr>\n",
       "      <th>2</th>\n",
       "      <td>8.5186</td>\n",
       "      <td>13.6620</td>\n",
       "    </tr>\n",
       "    <tr>\n",
       "      <th>3</th>\n",
       "      <td>7.0032</td>\n",
       "      <td>11.8540</td>\n",
       "    </tr>\n",
       "    <tr>\n",
       "      <th>4</th>\n",
       "      <td>5.8598</td>\n",
       "      <td>6.8233</td>\n",
       "    </tr>\n",
       "  </tbody>\n",
       "</table>\n",
       "</div>"
      ],
      "text/plain": [
       "   Population   Profit\n",
       "0      6.1101  17.5920\n",
       "1      5.5277   9.1302\n",
       "2      8.5186  13.6620\n",
       "3      7.0032  11.8540\n",
       "4      5.8598   6.8233"
      ]
     },
     "execution_count": 2,
     "metadata": {},
     "output_type": "execute_result"
    }
   ],
   "source": [
    "dfData = pd.read_csv('ex1data1.txt', names =['Population','Profit'])\n",
    "dfFeatures = dfData['Population']\n",
    "dfTarget = dfData['Profit']\n",
    "dfData.head()"
   ]
  },
  {
   "cell_type": "code",
   "execution_count": 3,
   "metadata": {},
   "outputs": [
    {
     "data": {
      "text/plain": [
       "Text(0,0.5,'Profit in $10,000s')"
      ]
     },
     "execution_count": 3,
     "metadata": {},
     "output_type": "execute_result"
    },
    {
     "data": {
      "image/png": "[encoded data removed]",
      "text/plain": [
       "<matplotlib.figure.Figure at 0x231f33aecf8>"
      ]
     },
     "metadata": {},
     "output_type": "display_data"
    }
   ],
   "source": [
    "'''\n",
    "Convert dataframes to matrices so that we can use numpy.\n",
    "'''\n",
    "X = np.matrix(dfFeatures).T\n",
    "y = np.matrix(dfTarget).T\n",
    "'''\n",
    "Plot data.\n",
    "'''\n",
    "plt.scatter([X[:,0]],[y[:,0]], s = 30, c = 'r', marker = 'x')\n",
    "plt.xlabel('Population of City in 10,000s')\n",
    "plt.ylabel('Profit in $10,000s')"
   ]
  },
  {
   "cell_type": "code",
   "execution_count": 4,
   "metadata": {},
   "outputs": [],
   "source": [
    "def addBiasColumn(X):\n",
    "    # Add a ones column for the bias terms.\n",
    "    intNumSamples = X.shape[0]\n",
    "    onesColumn = np.ones(shape = (intNumSamples,1))\n",
    "    newX = np.concatenate([onesColumn,X],axis =1)\n",
    "    return newX\n",
    "'''\n",
    "Add intercept.\n",
    "'''\n",
    "X = addBiasColumn(X)"
   ]
  },
  {
   "cell_type": "code",
   "execution_count": 5,
   "metadata": {},
   "outputs": [],
   "source": [
    "def computeCost(X,y,theta,lambdafactor=0):\n",
    "    intNumSamples = y.shape[0]\n",
    "    hypothesis = np.dot(X,theta)\n",
    "    #   Unregularized cost function.\n",
    "    J = np.sum(np.square(hypothesis -y))/2/intNumSamples\n",
    "    '''\n",
    "    #   Regularization term.  Don't square theta0.\n",
    "    R = lambdafactor*np.sum(np.square(theta[1:,0]))\n",
    "\n",
    "    #   Regularized cost function.\n",
    "    J += R\n",
    "    '''\n",
    "    return J"
   ]
  },
  {
   "cell_type": "code",
   "execution_count": 6,
   "metadata": {},
   "outputs": [
    {
     "name": "stdout",
     "output_type": "stream",
     "text": [
      "Estimated cost: 32.07\n",
      "Calculated cost: 32.072733877455676\n",
      "\n",
      "Estimated cost: 52.24\n",
      "Calculated cost: 54.24245508201238\n"
     ]
    }
   ],
   "source": [
    "'''\n",
    "Test cost function.  Output should be ~32.07 when theta vector is 0.\n",
    "'''\n",
    "theta = np.matrix(np.zeros((X.shape[1],1)))\n",
    "\n",
    "cost = computeCost(X,y,theta)\n",
    "print('Estimated cost: 32.07\\nCalculated cost: %s\\n' %(cost))\n",
    "\n",
    "cost = computeCost(X,y,np.array([[-1],[2]]))\n",
    "print('Estimated cost: 52.24\\nCalculated cost: %s' %(cost))"
   ]
  },
  {
   "cell_type": "code",
   "execution_count": 7,
   "metadata": {},
   "outputs": [],
   "source": [
    "def gradientDescent(X,y,theta,learningRate = 0.01,intIterations = 100):\n",
    "    intNumSamples,intNumFeatures = X.shape\n",
    "    tempTheta = np.copy(theta)\n",
    "    costHistory = np.zeros((intIterations,1))\n",
    "    \n",
    "    for i in range(0,intIterations):\n",
    "        error = np.dot(X,theta) - y\n",
    "        tempTheta = theta - np.dot(X.T,error)*learningRate/intNumSamples\n",
    "        theta = np.copy(tempTheta)\n",
    "        costHistory[i,0] = computeCost(X,y,theta)\n",
    "    return theta, costHistory"
   ]
  },
  {
   "cell_type": "code",
   "execution_count": 8,
   "metadata": {},
   "outputs": [],
   "source": [
    "def normEqn(X,y,regularized = False, lambdafactor = 0):\n",
    "    if regularized:\n",
    "        regIdentity = lambdafactor * np.eye(X.shape[1])\n",
    "        regIdentity[0,0] = 0\n",
    "        calculatedTheta = np.dot(np.dot(np.linalg.inv(np.dot(X.T,X) - regIdentity),X.T),y)\n",
    "    else:\n",
    "        calculatedTheta = np.dot(np.dot(np.linalg.inv(np.dot(X.T,X)),X.T),y)\n",
    "    return calculatedTheta"
   ]
  },
  {
   "cell_type": "code",
   "execution_count": 9,
   "metadata": {},
   "outputs": [
    {
     "name": "stdout",
     "output_type": "stream",
     "text": [
      "Theta calculated using gradient descent:\n",
      "[[-3.63029144]\n",
      " [ 1.16636235]]\n",
      "Theta calculated using normal equation:\n",
      "[[-3.89578088]\n",
      " [ 1.19303364]]\n"
     ]
    },
    {
     "data": {
      "text/plain": [
       "Text(0,0.5,'Cost Function J')"
      ]
     },
     "execution_count": 9,
     "metadata": {},
     "output_type": "execute_result"
    },
    {
     "data": {
      "image/png": "[encoded data removed]",
      "text/plain": [
       "<matplotlib.figure.Figure at 0x231f3773ba8>"
      ]
     },
     "metadata": {},
     "output_type": "display_data"
    }
   ],
   "source": [
    "'''\n",
    "Run gradient descent to minimize cost function.\n",
    "'''\n",
    "intIterations = 1500\n",
    "learningRate = 0.01\n",
    "calculatedTheta, costHistory = gradientDescent(X,y,theta,learningRate,intIterations)\n",
    "'''\n",
    "Also calculate theta using normal equation\n",
    "'''\n",
    "calculatedTheta2 = normEqn(X,y)\n",
    "print('Theta calculated using gradient descent:\\n%s' %(calculatedTheta))\n",
    "print('Theta calculated using normal equation:\\n%s' %(calculatedTheta2))\n",
    "'''\n",
    "Plot cost function history.\n",
    "'''\n",
    "xValues = np.arange(1,intIterations+1)\n",
    "fig, axes = plt.subplots(figsize =(12,6))\n",
    "axes.plot(xValues,costHistory)\n",
    "axes.set_xlabel('Iteration')\n",
    "axes.set_ylabel('Cost Function J')"
   ]
  },
  {
   "cell_type": "code",
   "execution_count": 10,
   "metadata": {},
   "outputs": [
    {
     "data": {
      "text/plain": [
       "<matplotlib.legend.Legend at 0x231f3bf1e80>"
      ]
     },
     "execution_count": 10,
     "metadata": {},
     "output_type": "execute_result"
    },
    {
     "data": {
      "image/png": "[encoded data removed]",
      "text/plain": [
       "<matplotlib.figure.Figure at 0x231f37731d0>"
      ]
     },
     "metadata": {},
     "output_type": "display_data"
    }
   ],
   "source": [
    "'''\n",
    "Plot line.\n",
    "'''\n",
    "xValues = np.linspace(dfFeatures.min(),dfFeatures.max(),100)\n",
    "estimatedProfit = calculatedTheta[0,0]+np.dot(xValues,calculatedTheta[1,0])\n",
    "\n",
    "fig, axes = plt.subplots(figsize =(12,6))\n",
    "\n",
    "axes.scatter(dfFeatures,dfTarget,s = 30, c = 'r', marker = 'x',label ='Training Data')\n",
    "axes.plot(xValues, estimatedProfit,c = 'b',label = 'Prediction')\n",
    "\n",
    "axes.set_xlabel('Population of City in 10,000s')\n",
    "axes.set_ylabel('Profit in $10,000s')\n",
    "axes.legend()"
   ]
  },
  {
   "cell_type": "code",
   "execution_count": null,
   "metadata": {},
   "outputs": [],
   "source": []
  }
 ],
 "metadata": {
  "kernelspec": {
   "display_name": "Python 3",
   "language": "python",
   "name": "python3"
  },
  "language_info": {
   "codemirror_mode": {
    "name": "ipython",
    "version": 3
   },
   "file_extension": ".py",
   "mimetype": "text/x-python",
   "name": "python",
   "nbconvert_exporter": "python",
   "pygments_lexer": "ipython3",
   "version": "3.6.4"
  }
 },
 "nbformat": 4,
 "nbformat_minor": 2
}
